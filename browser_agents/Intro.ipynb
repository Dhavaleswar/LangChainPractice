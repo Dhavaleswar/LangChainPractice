{
 "cells": [
  {
   "cell_type": "markdown",
   "id": "94343f4c-3eb6-41b5-beb5-23e3b170c1b1",
   "metadata": {},
   "source": [
    "# Browser Agents"
   ]
  },
  {
   "cell_type": "markdown",
   "id": "da64629d-061c-4a2c-97bd-a3181b92c3b9",
   "metadata": {},
   "source": [
    "## Architecture Overview\n",
    "\n",
    "1. User Interface (UI)\n",
    "2. Control Module\n",
    "3. Knowledge Base\n",
    "4. Communication Module\n",
    "5. Data Processing Module"
   ]
  },
  {
   "cell_type": "markdown",
   "id": "10423f0a-e7c8-4a2e-b654-b502c2d90112",
   "metadata": {},
   "source": [
    "## Key Components\n",
    "\n",
    "1. Parsers\n",
    "2. Action Models\n",
    "3. Executors"
   ]
  },
  {
   "cell_type": "markdown",
   "id": "60d6a7ee-bc53-4258-9d03-4f6c019cc780",
   "metadata": {},
   "source": [
    "## Flow\n",
    "1. User provides Input/Request to the agent.\n",
    "2. Agent understands the requests\n",
    "3. It personalized its approach based on the context\n",
    "4. The action model takesof the represenataion of the website, and determines what action to take.\n",
    "5. Next model predicts what is the optimal action  in the settings, this action is then executed on the website\n",
    "\n",
    "** This cycle repeats untill task is complteted."
   ]
  },
  {
   "cell_type": "markdown",
   "id": "af666467-b4e3-4d56-bd7d-a061c919191c",
   "metadata": {},
   "source": [
    "## Steps for the Agent\n",
    "\n",
    "1. Plan\n",
    "2. Reasoning\n",
    "3. Environmental Action\n",
    "4. Explanation"
   ]
  },
  {
   "cell_type": "markdown",
   "id": "c082141d-8dca-4e82-b380-c6d687b49551",
   "metadata": {},
   "source": [
    "## Limitations to existing Frameworks\n",
    "\n",
    "**Reliability & Trust**: Difficult to acquire a trust\n",
    "``\n",
    "<br>\n",
    "**Decision-Making Errors**:  \n",
    "    1. Early errors snowball\n",
    "    2. Lack of self-correction \n",
    "    3. Limited context\n",
    "    4. Inconsistent Reasoning\n",
    "    5. Biased training data\n",
    "<br>\n",
    "**Plan Divergence & Looping**"
   ]
  },
  {
   "cell_type": "markdown",
   "id": "f4cf6de4-3381-4d82-be95-150399922dd7",
   "metadata": {},
   "source": [
    "## Techniques\n",
    "1. Exploration: Breadth First Search, Trying new untested paths to discover potentially better rewards or strategies\n",
    "\n"
   ]
  },
  {
   "cell_type": "code",
   "execution_count": null,
   "id": "7cabbc85-c0b5-447c-aa93-d8126489284f",
   "metadata": {},
   "outputs": [],
   "source": []
  }
 ],
 "metadata": {
  "kernelspec": {
   "display_name": "Python 3 (ipykernel)",
   "language": "python",
   "name": "python3"
  },
  "language_info": {
   "codemirror_mode": {
    "name": "ipython",
    "version": 3
   },
   "file_extension": ".py",
   "mimetype": "text/x-python",
   "name": "python",
   "nbconvert_exporter": "python",
   "pygments_lexer": "ipython3",
   "version": "3.13.3"
  }
 },
 "nbformat": 4,
 "nbformat_minor": 5
}
